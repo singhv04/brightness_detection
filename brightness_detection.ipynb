{
 "cells": [
  {
   "cell_type": "markdown",
   "metadata": {},
   "source": [
    "### Detecting the brightness of any image\n",
    "\n",
    "* Requirements\n",
    "    * apt-get install python3-pip\n",
    "    * pip3 install torch\n",
    "    * pip3 install torchvision\n",
    "    * pip3 install opencv-python\n",
    "    * pip3 install matplotlib\n",
    "    * pip3 install numpy\n",
    "    * pip3 install Pillow\n",
    "    \n",
    "    * JPEGImages folder (from Imagenet dataset): Provided\n",
    "    \n",
    "\n",
    "* Dataset preperation:\n",
    "    * Downloaded the Imagenet dataset\n",
    "    * Took JPEGImages folder in current directory\n",
    "    * Everything else is generated using this python program\n",
    "    * As i needed to prepare the dataset for brightness detection so ran simple image analysis\n",
    "        *Tested different method, they all seem to returns a close value, but not exactly the same as the others. Almost all methods run about the same speed except where we calculated \"perceived brightness\" of pixels, then return average which is much slower depending on the image size.\n",
    "    * Visualized the color-distribution after normalizing the perceived brightness value between 0-10 as we needed 10 classes\n",
    "    * Saved the images according in different folder named as their corresponding labels\n",
    "\n",
    "\n",
    "* Model building\n",
    "    * Used pytorch for it. \n",
    "    * Used transfer learning where i basically took pretrained resnet18 and removed the last layer and trained it again on my dataset.\n",
    "    * Applied data augmentation for further increasing the data\n",
    "\n",
    "\n",
    "* Training\n",
    "    * Trained on Intel® Core™ i5 with default Intel® HD Graphics 520 graphic card.\n",
    "    * Due to hardware limitation its trained just for 5 epochs\n",
    "    * Can be trained on colab for much better results\n",
    "\n",
    "\n",
    "* Testing\n",
    "    * Tested the model on images saved in validation folder\n",
    "\n",
    "\n",
    "* Visualizing some results\n",
    "    * Visualized the performance on random validation images "
   ]
  },
  {
   "cell_type": "code",
   "execution_count": 1,
   "metadata": {},
   "outputs": [
    {
     "name": "stdout",
     "output_type": "stream",
     "text": [
      "brightness.ipynb  JPEGImages\r\n"
     ]
    }
   ],
   "source": [
    "import glob,os\n",
    "!ls"
   ]
  },
  {
   "cell_type": "code",
   "execution_count": 2,
   "metadata": {},
   "outputs": [],
   "source": [
    "from tqdm import tqdm"
   ]
  },
  {
   "cell_type": "code",
   "execution_count": 3,
   "metadata": {},
   "outputs": [],
   "source": [
    "import math\n",
    "from PIL import Image, ImageStat\n",
    "import numpy as np"
   ]
  },
  {
   "cell_type": "code",
   "execution_count": 4,
   "metadata": {},
   "outputs": [],
   "source": [
    "from matplotlib import pyplot as plt"
   ]
  },
  {
   "cell_type": "code",
   "execution_count": 5,
   "metadata": {},
   "outputs": [],
   "source": [
    "from sklearn.utils import shuffle"
   ]
  },
  {
   "cell_type": "code",
   "execution_count": 6,
   "metadata": {},
   "outputs": [],
   "source": [
    "d=os.listdir('JPEGImages')"
   ]
  },
  {
   "cell_type": "code",
   "execution_count": 7,
   "metadata": {},
   "outputs": [
    {
     "name": "stderr",
     "output_type": "stream",
     "text": [
      "17125it [00:01, 16520.97it/s]\n"
     ]
    }
   ],
   "source": [
    "current_dir = 'JPEGImages'\n",
    "percentage_test = 10;\n",
    "counter = 1  \n",
    "index_test = round(100 / percentage_test)  \n",
    "for pathAndFilename in tqdm(glob.iglob(os.path.join(current_dir, \"*.jpg\"))):  \n",
    "    title, ext = os.path.splitext(os.path.basename(pathAndFilename))\n",
    "    if counter == index_test:\n",
    "        counter = 1\n",
    "        file_test = open('test.txt', 'a+')\n",
    "        file_test.write(current_dir + \"/\" + title + '.jpg' + \"\\n\")\n",
    "        file_test.close()\n",
    "    else:\n",
    "        file_train = open('train.txt', 'a+')\n",
    "        file_train.write(current_dir + \"/\" + title + '.jpg' + \"\\n\")\n",
    "        counter = counter + 1\n",
    "        file_train.close()\n"
   ]
  },
  {
   "cell_type": "code",
   "execution_count": 8,
   "metadata": {},
   "outputs": [
    {
     "name": "stdout",
     "output_type": "stream",
     "text": [
      "brightness.ipynb  JPEGImages  test.txt\ttrain.txt\r\n"
     ]
    }
   ],
   "source": [
    "!ls"
   ]
  },
  {
   "cell_type": "code",
   "execution_count": 9,
   "metadata": {},
   "outputs": [],
   "source": [
    "def brightness( im_file ):\n",
    "   im = Image.open(im_file).convert('L')\n",
    "   stat = ImageStat.Stat(im)\n",
    "   return stat.rms[0]"
   ]
  },
  {
   "cell_type": "markdown",
   "metadata": {},
   "source": [
    "#### Can also use :\n",
    "* brightness  =  sqrt( .241 R2 + .691 G2 + .068 B2 )"
   ]
  },
  {
   "cell_type": "markdown",
   "metadata": {},
   "source": [
    "* def brightness_alternative( im_file ):\n",
    "\n",
    "    im = Image.open(im_file)\n",
    "    stat = ImageStat.Stat(im)\n",
    "    r,g,b = stat.rms\n",
    "    return math.sqrt(0.241*(r**2) + 0.691*(g**2) + 0.068*(b**2))"
   ]
  },
  {
   "cell_type": "markdown",
   "metadata": {},
   "source": [
    "### Pre-processing of training dataset"
   ]
  },
  {
   "cell_type": "code",
   "execution_count": 10,
   "metadata": {},
   "outputs": [
    {
     "name": "stderr",
     "output_type": "stream",
     "text": [
      "15413it [01:13, 210.22it/s]\n"
     ]
    }
   ],
   "source": [
    "stats_pb=[]\n",
    "image_desc=[]\n",
    "s=''\n",
    "file = open('train.txt','r')\n",
    "for line in tqdm(file):\n",
    "    s=line.strip()\n",
    "    image_desc.append(s)\n",
    "    stats_pb.append(brightness(s))"
   ]
  },
  {
   "cell_type": "code",
   "execution_count": 11,
   "metadata": {},
   "outputs": [],
   "source": [
    "stats_pb_training=np.asarray(stats_pb)"
   ]
  },
  {
   "cell_type": "markdown",
   "metadata": {},
   "source": [
    "### Visualizing the color distribution"
   ]
  },
  {
   "cell_type": "code",
   "execution_count": 12,
   "metadata": {},
   "outputs": [
    {
     "data": {
      "image/png": "[encoded data removed]",
      "text/plain": [
       "<Figure size 432x288 with 1 Axes>"
      ]
     },
     "metadata": {
      "needs_background": "light"
     },
     "output_type": "display_data"
    }
   ],
   "source": [
    "b=[x for x in range(0,251,25)]\n",
    "plt.hist(stats_pb_training,bins = b) \n",
    "plt.title(\"color-distribution\") \n",
    "plt.show()"
   ]
  },
  {
   "cell_type": "code",
   "execution_count": 13,
   "metadata": {},
   "outputs": [
    {
     "name": "stdout",
     "output_type": "stream",
     "text": [
      "7\n",
      "-------\n",
      "141\n",
      "-------\n",
      "524\n",
      "-------\n",
      "1822\n",
      "-------\n",
      "4464\n",
      "-------\n",
      "5632\n",
      "-------\n",
      "2251\n",
      "-------\n",
      "478\n",
      "-------\n",
      "81\n",
      "-------\n",
      "13\n",
      "-------\n",
      "Total : 15413\n"
     ]
    }
   ],
   "source": [
    "total=0\n",
    "for j in range(len(b)-1):\n",
    "    l1=[]\n",
    "    for i in range(len(stats_pb_training)):\n",
    "        if stats_pb_training[i]>=b[j] and stats_pb_training[i]<=b[j+1]:\n",
    "                l1.append(i)\n",
    "    l1=shuffle(l1)\n",
    "    print(len(l1))\n",
    "    total=total+len(l1)\n",
    "    print(\"-------\")\n",
    "print(\"Total :\",total)"
   ]
  },
  {
   "cell_type": "markdown",
   "metadata": {},
   "source": [
    "### Normalizing the dataset between 0-10 values as required for labels"
   ]
  },
  {
   "cell_type": "code",
   "execution_count": 14,
   "metadata": {},
   "outputs": [],
   "source": [
    "normalized_stats_pb_training=[]\n",
    "normalized_stats_pb_training=((stats_pb_training-min(stats_pb_training))*12/(max(stats_pb_training)-min(stats_pb_training)))"
   ]
  },
  {
   "cell_type": "code",
   "execution_count": 15,
   "metadata": {},
   "outputs": [
    {
     "name": "stdout",
     "output_type": "stream",
     "text": [
      "39\n",
      "-------\n",
      "146\n",
      "-------\n",
      "423\n",
      "-------\n",
      "1106\n",
      "-------\n",
      "2527\n",
      "-------\n",
      "4336\n",
      "-------\n",
      "4208\n",
      "-------\n",
      "1880\n",
      "-------\n",
      "570\n",
      "-------\n",
      "130\n",
      "-------\n",
      "40\n",
      "-------\n",
      "Total : 15405\n"
     ]
    }
   ],
   "source": [
    "normalized_dataset_index=[]\n",
    "b=[x for x in range(0,12,1)]\n",
    "total=0\n",
    "for j in range(len(b)-1):\n",
    "    l1=[]\n",
    "    for i in range(len(normalized_stats_pb_training)):\n",
    "        if normalized_stats_pb_training[i]>=b[j] and normalized_stats_pb_training[i]<=b[j+1]:\n",
    "                l1.append(i)\n",
    "    l1=shuffle(l1)\n",
    "    normalized_dataset_index.append([j,len(l1),l1])\n",
    "    print(len(l1))\n",
    "    total=total+len(l1)\n",
    "    print(\"-------\")\n",
    "print(\"Total :\",total)"
   ]
  },
  {
   "cell_type": "markdown",
   "metadata": {},
   "source": [
    "#### Visualizing the normalized color-distribution"
   ]
  },
  {
   "cell_type": "code",
   "execution_count": 16,
   "metadata": {},
   "outputs": [
    {
     "data": {
      "image/png": "[encoded data removed]",
      "text/plain": [
       "<Figure size 432x288 with 1 Axes>"
      ]
     },
     "metadata": {
      "needs_background": "light"
     },
     "output_type": "display_data"
    }
   ],
   "source": [
    "b=[x for x in range(0,12,1)]\n",
    "plt.hist(normalized_stats_pb_training,bins = b) \n",
    "plt.title(\"Normalized-color-distribution\") \n",
    "plt.show()"
   ]
  },
  {
   "cell_type": "markdown",
   "metadata": {},
   "source": [
    "#### Making of dataset"
   ]
  },
  {
   "cell_type": "code",
   "execution_count": 17,
   "metadata": {},
   "outputs": [
    {
     "name": "stderr",
     "output_type": "stream",
     "text": [
      "100%|██████████| 11/11 [01:30<00:00,  5.73s/it]\n"
     ]
    }
   ],
   "source": [
    "import cv2\n",
    "os.mkdir('train')\n",
    "for i in tqdm(range(0,len(normalized_dataset_index))):\n",
    "    os.mkdir('train/'+str(i))\n",
    "    for j in (range(0,normalized_dataset_index[i][1])):\n",
    "        img_l=cv2.imread(image_desc[j])\n",
    "        cv2.imwrite('train/'+str(i)+'/'+image_desc[normalized_dataset_index[i][2][j]].split('/')[1],img_l)"
   ]
  },
  {
   "cell_type": "code",
   "execution_count": 18,
   "metadata": {},
   "outputs": [
    {
     "data": {
      "text/plain": [
       "11"
      ]
     },
     "execution_count": 18,
     "metadata": {},
     "output_type": "execute_result"
    }
   ],
   "source": [
    "len(normalized_dataset_index)"
   ]
  },
  {
   "cell_type": "markdown",
   "metadata": {},
   "source": [
    "### Similary lets create the test dataset"
   ]
  },
  {
   "cell_type": "code",
   "execution_count": 19,
   "metadata": {},
   "outputs": [
    {
     "name": "stderr",
     "output_type": "stream",
     "text": [
      "1712it [00:29, 58.41it/s]\n"
     ]
    }
   ],
   "source": [
    "stats_pb_test=[]\n",
    "image_desc_test=[]\n",
    "s=''\n",
    "file = open('test.txt','r')\n",
    "for line in tqdm(file):\n",
    "    s=line.strip()\n",
    "    image_desc_test.append(s)\n",
    "    stats_pb_test.append(brightness(s))\n",
    "\n",
    "stats_pb_testing=np.asarray(stats_pb_test)"
   ]
  },
  {
   "cell_type": "code",
   "execution_count": 20,
   "metadata": {},
   "outputs": [
    {
     "data": {
      "image/png": "[encoded data removed]",
      "text/plain": [
       "<Figure size 432x288 with 1 Axes>"
      ]
     },
     "metadata": {
      "needs_background": "light"
     },
     "output_type": "display_data"
    }
   ],
   "source": [
    "b=[x for x in range(0,251,25)]\n",
    "plt.hist(stats_pb_testing,bins = b) \n",
    "plt.title(\"color-distribution\") \n",
    "plt.show()"
   ]
  },
  {
   "cell_type": "code",
   "execution_count": 21,
   "metadata": {},
   "outputs": [],
   "source": [
    "normalized_stats_pb_testing=[]\n",
    "normalized_stats_pb_testing=((stats_pb_testing-min(stats_pb_testing))*12/(max(stats_pb_testing)-min(stats_pb_testing)))"
   ]
  },
  {
   "cell_type": "code",
   "execution_count": 22,
   "metadata": {},
   "outputs": [
    {
     "name": "stdout",
     "output_type": "stream",
     "text": [
      "4\n",
      "-------\n",
      "18\n",
      "-------\n",
      "51\n",
      "-------\n",
      "102\n",
      "-------\n",
      "230\n",
      "-------\n",
      "453\n",
      "-------\n",
      "495\n",
      "-------\n",
      "219\n",
      "-------\n",
      "96\n",
      "-------\n",
      "29\n",
      "-------\n",
      "12\n",
      "-------\n",
      "Total : 1709\n"
     ]
    }
   ],
   "source": [
    "normalized_dataset_index_testing=[]\n",
    "b=[x for x in range(0,12,1)]\n",
    "total=0\n",
    "for j in range(len(b)-1):\n",
    "    l1=[]\n",
    "    for i in range(len(normalized_stats_pb_testing)):\n",
    "        if normalized_stats_pb_testing[i]>=b[j] and normalized_stats_pb_testing[i]<=b[j+1]:\n",
    "                l1.append(i)\n",
    "    l1=shuffle(l1)\n",
    "    normalized_dataset_index_testing.append([j,len(l1),l1])\n",
    "    print(len(l1))\n",
    "    total=total+len(l1)\n",
    "    print(\"-------\")\n",
    "print(\"Total :\",total)"
   ]
  },
  {
   "cell_type": "code",
   "execution_count": 23,
   "metadata": {},
   "outputs": [
    {
     "data": {
      "image/png": "[encoded data removed]",
      "text/plain": [
       "<Figure size 432x288 with 1 Axes>"
      ]
     },
     "metadata": {
      "needs_background": "light"
     },
     "output_type": "display_data"
    }
   ],
   "source": [
    "b=[x for x in range(0,12,1)]\n",
    "plt.hist(normalized_stats_pb_testing,bins = b) \n",
    "plt.title(\"Normalized-color-distribution\") \n",
    "plt.show()"
   ]
  },
  {
   "cell_type": "code",
   "execution_count": 24,
   "metadata": {},
   "outputs": [
    {
     "name": "stderr",
     "output_type": "stream",
     "text": [
      "100%|██████████| 11/11 [00:09<00:00,  1.14it/s]\n"
     ]
    }
   ],
   "source": [
    "import cv2\n",
    "os.mkdir('val')\n",
    "for i in tqdm(range(0,len(normalized_dataset_index_testing))):\n",
    "    os.mkdir('val/'+str(i))\n",
    "    for j in (range(0,normalized_dataset_index_testing[i][1])):\n",
    "        img_l=cv2.imread(image_desc[j])\n",
    "        cv2.imwrite('val/'+str(i)+'/'+image_desc[normalized_dataset_index_testing[i][2][j]].split('/')[1],img_l)"
   ]
  },
  {
   "cell_type": "code",
   "execution_count": 42,
   "metadata": {},
   "outputs": [],
   "source": [
    "import torch\n",
    "import torch.nn as nn\n",
    "import torch.optim as optim\n",
    "from torch.optim import lr_scheduler\n",
    "import numpy as np\n",
    "import matplotlib.pyplot as plt\n",
    "import time\n",
    "import os\n",
    "import copy\n",
    "from torchvision import datasets, models, transforms\n",
    "import torchvision\n",
    "from torch.autograd import Variable"
   ]
  },
  {
   "cell_type": "code",
   "execution_count": 26,
   "metadata": {},
   "outputs": [],
   "source": [
    "data_transforms = {\n",
    "    'train': transforms.Compose([\n",
    "        transforms.RandomResizedCrop(224),\n",
    "        transforms.RandomHorizontalFlip(),\n",
    "        transforms.ToTensor(),\n",
    "        transforms.Normalize([0.485, 0.456, 0.406], [0.229, 0.224, 0.225])\n",
    "    ]),\n",
    "    'val': transforms.Compose([\n",
    "        transforms.Resize(256),\n",
    "        transforms.CenterCrop(224),\n",
    "        transforms.ToTensor(),\n",
    "        transforms.Normalize([0.485, 0.456, 0.406], [0.229, 0.224, 0.225])\n",
    "    ]),\n",
    "}"
   ]
  },
  {
   "cell_type": "code",
   "execution_count": 57,
   "metadata": {},
   "outputs": [],
   "source": [
    "image_datasets = {x: datasets.ImageFolder(x,\n",
    "                                          data_transforms[x])\n",
    "                  for x in ['train', 'val']}\n",
    "dataloaders = {x: torch.utils.data.DataLoader(image_datasets[x], batch_size=128,\n",
    "                                             shuffle=True, num_workers=4)\n",
    "              for x in ['train', 'val']}\n",
    "dataset_sizes = {x: len(image_datasets[x]) for x in ['train', 'val']}\n",
    "class_names = image_datasets['train'].classes\n",
    "\n",
    "device = torch.device(\"cuda:0\" if torch.cuda.is_available() else \"cpu\")"
   ]
  },
  {
   "cell_type": "code",
   "execution_count": 58,
   "metadata": {},
   "outputs": [
    {
     "data": {
      "text/plain": [
       "['0', '1', '10', '2', '3', '4', '5', '6', '7', '8', '9']"
      ]
     },
     "execution_count": 58,
     "metadata": {},
     "output_type": "execute_result"
    }
   ],
   "source": [
    "class_names"
   ]
  },
  {
   "cell_type": "code",
   "execution_count": 59,
   "metadata": {},
   "outputs": [],
   "source": [
    "model_conv=torchvision.models.resnet18(pretrained=True)"
   ]
  },
  {
   "cell_type": "code",
   "execution_count": 60,
   "metadata": {},
   "outputs": [],
   "source": [
    "#freeze all layers in the network\n",
    "for param in model_conv.parameters():\n",
    "    param.requires_grad=False"
   ]
  },
  {
   "cell_type": "code",
   "execution_count": 61,
   "metadata": {},
   "outputs": [
    {
     "name": "stdout",
     "output_type": "stream",
     "text": [
      "512\n"
     ]
    }
   ],
   "source": [
    "#get the number of inputs of the last layer\n",
    "num_features=model_conv.fc.in_features\n",
    "print(num_features)"
   ]
  },
  {
   "cell_type": "code",
   "execution_count": 62,
   "metadata": {},
   "outputs": [],
   "source": [
    "#reconstruct the last layer (output layer) to have only two classes\n",
    "model_conv.fc=nn.Linear(num_features,11)"
   ]
  },
  {
   "cell_type": "code",
   "execution_count": 63,
   "metadata": {},
   "outputs": [],
   "source": [
    "if torch.cuda.is_available():\n",
    "    model_conv=model_conv.cuda()"
   ]
  },
  {
   "cell_type": "code",
   "execution_count": 64,
   "metadata": {},
   "outputs": [],
   "source": [
    "criterion = nn.CrossEntropyLoss()\n",
    "#only optimizzing the parameters of last layer\n",
    "optimizer = optim.SGD(model_conv.fc.parameters(), lr=0.001, momentum=0.9)\n",
    "#Decay LR by a factor of 0.1 every 10 epochs\n",
    "exp_lr_scheduler = lr_scheduler.StepLR(optimizer, step_size=10, gamma=0.1)"
   ]
  },
  {
   "cell_type": "markdown",
   "metadata": {},
   "source": [
    "#### TRAINING"
   ]
  },
  {
   "cell_type": "code",
   "execution_count": 65,
   "metadata": {},
   "outputs": [
    {
     "name": "stderr",
     "output_type": "stream",
     "text": [
      "\n",
      "  0%|          | 0/5 [00:00<?, ?it/s]\u001b[A"
     ]
    },
    {
     "name": "stdout",
     "output_type": "stream",
     "text": [
      "0\n"
     ]
    },
    {
     "name": "stderr",
     "output_type": "stream",
     "text": [
      "\n",
      " 20%|██        | 1/5 [14:34<58:16, 874.18s/it]\u001b[A"
     ]
    },
    {
     "name": "stdout",
     "output_type": "stream",
     "text": [
      "Epoch [1/5], Loss: 1.8062, Train Accuracy: 25%\n",
      "1\n"
     ]
    },
    {
     "name": "stderr",
     "output_type": "stream",
     "text": [
      "\n",
      " 40%|████      | 2/5 [29:29<44:01, 880.51s/it]\u001b[A"
     ]
    },
    {
     "name": "stdout",
     "output_type": "stream",
     "text": [
      "Epoch [2/5], Loss: 1.7761, Train Accuracy: 27%\n",
      "2\n"
     ]
    },
    {
     "ename": "FileNotFoundError",
     "evalue": "Caught FileNotFoundError in DataLoader worker process 0.\nOriginal Traceback (most recent call last):\n  File \"/home/vaibhav/.local/lib/python3.6/site-packages/torch/utils/data/_utils/worker.py\", line 178, in _worker_loop\n    data = fetcher.fetch(index)\n  File \"/home/vaibhav/.local/lib/python3.6/site-packages/torch/utils/data/_utils/fetch.py\", line 44, in fetch\n    data = [self.dataset[idx] for idx in possibly_batched_index]\n  File \"/home/vaibhav/.local/lib/python3.6/site-packages/torch/utils/data/_utils/fetch.py\", line 44, in <listcomp>\n    data = [self.dataset[idx] for idx in possibly_batched_index]\n  File \"/home/vaibhav/.local/lib/python3.6/site-packages/torchvision/datasets/folder.py\", line 138, in __getitem__\n    sample = self.loader(path)\n  File \"/home/vaibhav/.local/lib/python3.6/site-packages/torchvision/datasets/folder.py\", line 174, in default_loader\n    return pil_loader(path)\n  File \"/home/vaibhav/.local/lib/python3.6/site-packages/torchvision/datasets/folder.py\", line 155, in pil_loader\n    with open(path, 'rb') as f:\nFileNotFoundError: [Errno 2] No such file or directory: 'train/8/2010_002905.jpg'\n",
     "output_type": "error",
     "traceback": [
      "\u001b[0;31m---------------------------------------------------------------------------\u001b[0m",
      "\u001b[0;31mFileNotFoundError\u001b[0m                         Traceback (most recent call last)",
      "\u001b[0;32m<ipython-input-65-50beaa52626a>\u001b[0m in \u001b[0;36m<module>\u001b[0;34m\u001b[0m\n\u001b[1;32m      8\u001b[0m     \u001b[0mcorrect\u001b[0m \u001b[0;34m=\u001b[0m \u001b[0;36m0\u001b[0m\u001b[0;34m\u001b[0m\u001b[0;34m\u001b[0m\u001b[0m\n\u001b[1;32m      9\u001b[0m     \u001b[0mci\u001b[0m\u001b[0;34m=\u001b[0m\u001b[0;36m0\u001b[0m\u001b[0;34m\u001b[0m\u001b[0;34m\u001b[0m\u001b[0m\n\u001b[0;32m---> 10\u001b[0;31m     \u001b[0;32mfor\u001b[0m \u001b[0mimages\u001b[0m\u001b[0;34m,\u001b[0m\u001b[0mlabels\u001b[0m \u001b[0;32min\u001b[0m \u001b[0mdataloaders\u001b[0m\u001b[0;34m[\u001b[0m\u001b[0;34m'train'\u001b[0m\u001b[0;34m]\u001b[0m\u001b[0;34m:\u001b[0m\u001b[0;34m\u001b[0m\u001b[0;34m\u001b[0m\u001b[0m\n\u001b[0m\u001b[1;32m     11\u001b[0m         \u001b[0mci\u001b[0m\u001b[0;34m+=\u001b[0m\u001b[0;36m1\u001b[0m\u001b[0;34m\u001b[0m\u001b[0;34m\u001b[0m\u001b[0m\n\u001b[1;32m     12\u001b[0m         \u001b[0mimages\u001b[0m \u001b[0;34m=\u001b[0m \u001b[0mVariable\u001b[0m\u001b[0;34m(\u001b[0m\u001b[0mimages\u001b[0m\u001b[0;34m)\u001b[0m\u001b[0;34m\u001b[0m\u001b[0;34m\u001b[0m\u001b[0m\n",
      "\u001b[0;32m~/.local/lib/python3.6/site-packages/torch/utils/data/dataloader.py\u001b[0m in \u001b[0;36m__next__\u001b[0;34m(self)\u001b[0m\n\u001b[1;32m    817\u001b[0m             \u001b[0;32melse\u001b[0m\u001b[0;34m:\u001b[0m\u001b[0;34m\u001b[0m\u001b[0;34m\u001b[0m\u001b[0m\n\u001b[1;32m    818\u001b[0m                 \u001b[0;32mdel\u001b[0m \u001b[0mself\u001b[0m\u001b[0;34m.\u001b[0m\u001b[0mtask_info\u001b[0m\u001b[0;34m[\u001b[0m\u001b[0midx\u001b[0m\u001b[0;34m]\u001b[0m\u001b[0;34m\u001b[0m\u001b[0;34m\u001b[0m\u001b[0m\n\u001b[0;32m--> 819\u001b[0;31m                 \u001b[0;32mreturn\u001b[0m \u001b[0mself\u001b[0m\u001b[0;34m.\u001b[0m\u001b[0m_process_data\u001b[0m\u001b[0;34m(\u001b[0m\u001b[0mdata\u001b[0m\u001b[0;34m)\u001b[0m\u001b[0;34m\u001b[0m\u001b[0;34m\u001b[0m\u001b[0m\n\u001b[0m\u001b[1;32m    820\u001b[0m \u001b[0;34m\u001b[0m\u001b[0m\n\u001b[1;32m    821\u001b[0m     \u001b[0mnext\u001b[0m \u001b[0;34m=\u001b[0m \u001b[0m__next__\u001b[0m  \u001b[0;31m# Python 2 compatibility\u001b[0m\u001b[0;34m\u001b[0m\u001b[0;34m\u001b[0m\u001b[0m\n",
      "\u001b[0;32m~/.local/lib/python3.6/site-packages/torch/utils/data/dataloader.py\u001b[0m in \u001b[0;36m_process_data\u001b[0;34m(self, data)\u001b[0m\n\u001b[1;32m    844\u001b[0m         \u001b[0mself\u001b[0m\u001b[0;34m.\u001b[0m\u001b[0m_try_put_index\u001b[0m\u001b[0;34m(\u001b[0m\u001b[0;34m)\u001b[0m\u001b[0;34m\u001b[0m\u001b[0;34m\u001b[0m\u001b[0m\n\u001b[1;32m    845\u001b[0m         \u001b[0;32mif\u001b[0m \u001b[0misinstance\u001b[0m\u001b[0;34m(\u001b[0m\u001b[0mdata\u001b[0m\u001b[0;34m,\u001b[0m \u001b[0mExceptionWrapper\u001b[0m\u001b[0;34m)\u001b[0m\u001b[0;34m:\u001b[0m\u001b[0;34m\u001b[0m\u001b[0;34m\u001b[0m\u001b[0m\n\u001b[0;32m--> 846\u001b[0;31m             \u001b[0mdata\u001b[0m\u001b[0;34m.\u001b[0m\u001b[0mreraise\u001b[0m\u001b[0;34m(\u001b[0m\u001b[0;34m)\u001b[0m\u001b[0;34m\u001b[0m\u001b[0;34m\u001b[0m\u001b[0m\n\u001b[0m\u001b[1;32m    847\u001b[0m         \u001b[0;32mreturn\u001b[0m \u001b[0mdata\u001b[0m\u001b[0;34m\u001b[0m\u001b[0;34m\u001b[0m\u001b[0m\n\u001b[1;32m    848\u001b[0m \u001b[0;34m\u001b[0m\u001b[0m\n",
      "\u001b[0;32m~/.local/lib/python3.6/site-packages/torch/_utils.py\u001b[0m in \u001b[0;36mreraise\u001b[0;34m(self)\u001b[0m\n\u001b[1;32m    367\u001b[0m             \u001b[0;31m# (https://bugs.python.org/issue2651), so we work around it.\u001b[0m\u001b[0;34m\u001b[0m\u001b[0;34m\u001b[0m\u001b[0;34m\u001b[0m\u001b[0m\n\u001b[1;32m    368\u001b[0m             \u001b[0mmsg\u001b[0m \u001b[0;34m=\u001b[0m \u001b[0mKeyErrorMessage\u001b[0m\u001b[0;34m(\u001b[0m\u001b[0mmsg\u001b[0m\u001b[0;34m)\u001b[0m\u001b[0;34m\u001b[0m\u001b[0;34m\u001b[0m\u001b[0m\n\u001b[0;32m--> 369\u001b[0;31m         \u001b[0;32mraise\u001b[0m \u001b[0mself\u001b[0m\u001b[0;34m.\u001b[0m\u001b[0mexc_type\u001b[0m\u001b[0;34m(\u001b[0m\u001b[0mmsg\u001b[0m\u001b[0;34m)\u001b[0m\u001b[0;34m\u001b[0m\u001b[0;34m\u001b[0m\u001b[0m\n\u001b[0m",
      "\u001b[0;31mFileNotFoundError\u001b[0m: Caught FileNotFoundError in DataLoader worker process 0.\nOriginal Traceback (most recent call last):\n  File \"/home/vaibhav/.local/lib/python3.6/site-packages/torch/utils/data/_utils/worker.py\", line 178, in _worker_loop\n    data = fetcher.fetch(index)\n  File \"/home/vaibhav/.local/lib/python3.6/site-packages/torch/utils/data/_utils/fetch.py\", line 44, in fetch\n    data = [self.dataset[idx] for idx in possibly_batched_index]\n  File \"/home/vaibhav/.local/lib/python3.6/site-packages/torch/utils/data/_utils/fetch.py\", line 44, in <listcomp>\n    data = [self.dataset[idx] for idx in possibly_batched_index]\n  File \"/home/vaibhav/.local/lib/python3.6/site-packages/torchvision/datasets/folder.py\", line 138, in __getitem__\n    sample = self.loader(path)\n  File \"/home/vaibhav/.local/lib/python3.6/site-packages/torchvision/datasets/folder.py\", line 174, in default_loader\n    return pil_loader(path)\n  File \"/home/vaibhav/.local/lib/python3.6/site-packages/torchvision/datasets/folder.py\", line 155, in pil_loader\n    with open(path, 'rb') as f:\nFileNotFoundError: [Errno 2] No such file or directory: 'train/8/2010_002905.jpg'\n"
     ]
    }
   ],
   "source": [
    "num_epochs = 5\n",
    "train_accuaracy_log=[]\n",
    "train_loss_log=[]\n",
    "for epoch in tqdm(range (num_epochs)):\n",
    "    print(epoch)\n",
    "    exp_lr_scheduler.step()\n",
    "    #Reset the correct to 0 after passing through all the dataset\n",
    "    correct = 0\n",
    "    ci=0\n",
    "    for images,labels in dataloaders['train']:\n",
    "        ci+=1\n",
    "        images = Variable(images)\n",
    "        labels = Variable(labels)\n",
    "        if torch.cuda.is_available():\n",
    "            images = images.cuda()\n",
    "            labels = labels.cuda()\n",
    "        #print(\"recieved input and corresponding output\", ci)    \n",
    "        optimizer.zero_grad()\n",
    "        outputs = model_conv(images)\n",
    "        loss = criterion(outputs, labels)\n",
    "        loss.backward()\n",
    "        #print(\"Backward propagation\",loss)\n",
    "        optimizer.step()  \n",
    "        _, predicted = torch.max(outputs, 1) \n",
    "        correct += (predicted == labels).sum()\n",
    "        #print(\"Predicted\")\n",
    "    train_acc = 100 * correct / dataset_sizes['train']\n",
    "    train_loss_log.append(loss)\n",
    "    train_accuaracy_log.append(train_acc)   \n",
    "    print ('Epoch [{}/{}], Loss: {:.4f}, Train Accuracy: {}%'\n",
    "            .format(epoch+1, num_epochs, loss.item(), train_acc))"
   ]
  },
  {
   "cell_type": "markdown",
   "metadata": {},
   "source": [
    "### TESTING\n"
   ]
  },
  {
   "cell_type": "code",
   "execution_count": null,
   "metadata": {},
   "outputs": [],
   "source": [
    "# Test the model\n",
    "model_conv.eval()  \n",
    "with torch.no_grad():\n",
    "    correct = 0\n",
    "    total = 0\n",
    "    for (images, labels) in dataloaders['val']:\n",
    "        images = Variable(images)\n",
    "        labels = Variable(labels)\n",
    "        if torch.cuda.is_available():\n",
    "            images = images.cuda()\n",
    "            labels = labels.cuda()\n",
    "\n",
    "        outputs = model_conv(images)\n",
    "        _, predicted = torch.max(outputs.data, 1)\n",
    "        total += labels.size(0)\n",
    "        correct += (predicted == labels).sum().item()\n",
    "\n",
    "    print('Test Accuracy: {:.3f} %'.format(100 * correct / total))"
   ]
  },
  {
   "cell_type": "markdown",
   "metadata": {},
   "source": [
    "### Visualizing some predictions "
   ]
  },
  {
   "cell_type": "code",
   "execution_count": null,
   "metadata": {},
   "outputs": [],
   "source": [
    "import matplotlib.pyplot as plt\n",
    "fig = plt.figure()\n",
    "shown_batch = 0\n",
    "index = 0\n",
    "with torch.no_grad():\n",
    "    for (images, labels) in dataloaders['val']:\n",
    "        if shown_batch == 1:\n",
    "            break\n",
    "        shown_batch += 1\n",
    "        images = Variable(images)\n",
    "        labels = Variable(labels)\n",
    "        if torch.cuda.is_available():\n",
    "            images = images.cuda()\n",
    "            labels = labels.cuda()\n",
    "\n",
    "        outputs = model_conv(images)                            \n",
    "        _, preds = torch.max(outputs, 1)                        \n",
    "        \n",
    "        for i in range(4):\n",
    "            index += 1\n",
    "            ax = plt.subplot(2,2,index)\n",
    "            ax.axis('off')\n",
    "            ax.set_title('Predicted Label: {}'.format(class_names[preds[i]]))\n",
    "            input_img = images.cpu().data[i]                    \n",
    "            inp = input_img.numpy().transpose((1, 2, 0))        \n",
    "            mean = np.array([0.485, 0.456, 0.406])\n",
    "            std = np.array([0.229, 0.224, 0.225])\n",
    "            inp = std * inp + mean \n",
    "            plt.imshow(inp)"
   ]
  }
 ],
 "metadata": {
  "kernelspec": {
   "display_name": "Python 3",
   "language": "python",
   "name": "python3"
  },
  "language_info": {
   "codemirror_mode": {
    "name": "ipython",
    "version": 3
   },
   "file_extension": ".py",
   "mimetype": "text/x-python",
   "name": "python",
   "nbconvert_exporter": "python",
   "pygments_lexer": "ipython3",
   "version": "3.6.7"
  }
 },
 "nbformat": 4,
 "nbformat_minor": 2
}
